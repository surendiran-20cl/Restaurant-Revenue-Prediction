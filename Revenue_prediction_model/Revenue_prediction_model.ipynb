{
  "cells": [
    {
      "cell_type": "markdown",
      "metadata": {
        "id": "S9LbURBGWXPb"
      },
      "source": [
        "**Import the libraries**\n"
      ]
    },
    {
      "cell_type": "code",
      "execution_count": 1,
      "metadata": {
        "id": "2hKSOMe9Gybm"
      },
      "outputs": [],
      "source": [
        "import pandas as pd\n",
        "import numpy as np\n",
        "import matplotlib.pyplot as plt"
      ]
    },
    {
      "cell_type": "markdown",
      "metadata": {
        "id": "PL7EbALUWmoN"
      },
      "source": [
        "**Load the dataset**"
      ]
    },
    {
      "cell_type": "code",
      "execution_count": 3,
      "metadata": {
        "id": "fKQztvHPG6z-"
      },
      "outputs": [],
      "source": [
        "df=pd.read_csv(r\"J:\\Data Science and Artificial Intelligence Course Files - Intellipaat\\Self Paced - Projects and Assignments\\Python Weekday\\Restaurant Revenue Prediction (Mandatory Project)\\revenue_prediction.csv\")"
      ]
    },
    {
      "cell_type": "code",
      "execution_count": 4,
      "metadata": {
        "colab": {
          "base_uri": "https://localhost:8080/",
          "height": 206
        },
        "id": "fJu7vhdQHDUT",
        "outputId": "9aa77fce-21e3-411e-ad7b-596cb4848b20"
      },
      "outputs": [
        {
          "data": {
            "text/html": [
              "<div>\n",
              "<style scoped>\n",
              "    .dataframe tbody tr th:only-of-type {\n",
              "        vertical-align: middle;\n",
              "    }\n",
              "\n",
              "    .dataframe tbody tr th {\n",
              "        vertical-align: top;\n",
              "    }\n",
              "\n",
              "    .dataframe thead th {\n",
              "        text-align: right;\n",
              "    }\n",
              "</style>\n",
              "<table border=\"1\" class=\"dataframe\">\n",
              "  <thead>\n",
              "    <tr style=\"text-align: right;\">\n",
              "      <th></th>\n",
              "      <th>Id</th>\n",
              "      <th>Name</th>\n",
              "      <th>Franchise</th>\n",
              "      <th>Category</th>\n",
              "      <th>City</th>\n",
              "      <th>No_Of_Item</th>\n",
              "      <th>Order_Placed</th>\n",
              "      <th>Revenue</th>\n",
              "    </tr>\n",
              "  </thead>\n",
              "  <tbody>\n",
              "    <tr>\n",
              "      <th>0</th>\n",
              "      <td>101</td>\n",
              "      <td>HungryHowie'sPizza</td>\n",
              "      <td>Yes</td>\n",
              "      <td>Mexican</td>\n",
              "      <td>Bengaluru</td>\n",
              "      <td>55</td>\n",
              "      <td>5.5</td>\n",
              "      <td>5953753</td>\n",
              "    </tr>\n",
              "    <tr>\n",
              "      <th>1</th>\n",
              "      <td>102</td>\n",
              "      <td>CharleysPhillySteaks</td>\n",
              "      <td>No</td>\n",
              "      <td>Varied Menu</td>\n",
              "      <td>Gurugram</td>\n",
              "      <td>72</td>\n",
              "      <td>6.8</td>\n",
              "      <td>7223131</td>\n",
              "    </tr>\n",
              "    <tr>\n",
              "      <th>2</th>\n",
              "      <td>103</td>\n",
              "      <td>Chuy's</td>\n",
              "      <td>Yes</td>\n",
              "      <td>Chicken</td>\n",
              "      <td>Pune</td>\n",
              "      <td>25</td>\n",
              "      <td>1.9</td>\n",
              "      <td>2555379</td>\n",
              "    </tr>\n",
              "    <tr>\n",
              "      <th>3</th>\n",
              "      <td>104</td>\n",
              "      <td>O'Charley's</td>\n",
              "      <td>Yes</td>\n",
              "      <td>Italian/Pizza</td>\n",
              "      <td>Mumbai</td>\n",
              "      <td>18</td>\n",
              "      <td>2.5</td>\n",
              "      <td>2175511</td>\n",
              "    </tr>\n",
              "    <tr>\n",
              "      <th>4</th>\n",
              "      <td>105</td>\n",
              "      <td>PolloTropical</td>\n",
              "      <td>Yes</td>\n",
              "      <td>Pizza</td>\n",
              "      <td>Noida</td>\n",
              "      <td>48</td>\n",
              "      <td>4.2</td>\n",
              "      <td>4816715</td>\n",
              "    </tr>\n",
              "  </tbody>\n",
              "</table>\n",
              "</div>"
            ],
            "text/plain": [
              "    Id                  Name Franchise       Category       City  No_Of_Item  \\\n",
              "0  101    HungryHowie'sPizza       Yes        Mexican  Bengaluru          55   \n",
              "1  102  CharleysPhillySteaks        No    Varied Menu   Gurugram          72   \n",
              "2  103                Chuy's       Yes        Chicken       Pune          25   \n",
              "3  104           O'Charley's       Yes  Italian/Pizza     Mumbai          18   \n",
              "4  105         PolloTropical       Yes          Pizza      Noida          48   \n",
              "\n",
              "   Order_Placed  Revenue  \n",
              "0           5.5  5953753  \n",
              "1           6.8  7223131  \n",
              "2           1.9  2555379  \n",
              "3           2.5  2175511  \n",
              "4           4.2  4816715  "
            ]
          },
          "execution_count": 4,
          "metadata": {},
          "output_type": "execute_result"
        }
      ],
      "source": [
        "df.head()"
      ]
    },
    {
      "cell_type": "markdown",
      "metadata": {
        "id": "LCu0U7eEb5i4"
      },
      "source": [
        "**Examining missing values in a dataset**"
      ]
    },
    {
      "cell_type": "code",
      "execution_count": 5,
      "metadata": {
        "colab": {
          "base_uri": "https://localhost:8080/"
        },
        "id": "_sXfMTB-byUZ",
        "outputId": "4fd02d5b-02bd-4e50-b511-bc909e63d803"
      },
      "outputs": [
        {
          "data": {
            "text/plain": [
              "Id              0\n",
              "Name            0\n",
              "Franchise       0\n",
              "Category        0\n",
              "City            0\n",
              "No_Of_Item      0\n",
              "Order_Placed    0\n",
              "Revenue         0\n",
              "dtype: int64"
            ]
          },
          "execution_count": 5,
          "metadata": {},
          "output_type": "execute_result"
        }
      ],
      "source": [
        "df.isnull().sum()"
      ]
    },
    {
      "cell_type": "markdown",
      "metadata": {
        "id": "z5pDy1_iWx_2"
      },
      "source": [
        "**Drop irrelevant columns**"
      ]
    },
    {
      "cell_type": "code",
      "execution_count": 6,
      "metadata": {
        "id": "nJyavrYXVejd"
      },
      "outputs": [],
      "source": [
        "df=df.drop(columns=[\"Id\",\"Name\",\"Franchise\",\"Category\",\"City\",\"No_Of_Item\"])"
      ]
    },
    {
      "cell_type": "code",
      "execution_count": 7,
      "metadata": {
        "colab": {
          "base_uri": "https://localhost:8080/",
          "height": 206
        },
        "id": "qyq_DulNW4uM",
        "outputId": "d829e46f-e54c-43cb-924e-79a88a8fa172"
      },
      "outputs": [
        {
          "data": {
            "text/html": [
              "<div>\n",
              "<style scoped>\n",
              "    .dataframe tbody tr th:only-of-type {\n",
              "        vertical-align: middle;\n",
              "    }\n",
              "\n",
              "    .dataframe tbody tr th {\n",
              "        vertical-align: top;\n",
              "    }\n",
              "\n",
              "    .dataframe thead th {\n",
              "        text-align: right;\n",
              "    }\n",
              "</style>\n",
              "<table border=\"1\" class=\"dataframe\">\n",
              "  <thead>\n",
              "    <tr style=\"text-align: right;\">\n",
              "      <th></th>\n",
              "      <th>Order_Placed</th>\n",
              "      <th>Revenue</th>\n",
              "    </tr>\n",
              "  </thead>\n",
              "  <tbody>\n",
              "    <tr>\n",
              "      <th>0</th>\n",
              "      <td>5.5</td>\n",
              "      <td>5953753</td>\n",
              "    </tr>\n",
              "    <tr>\n",
              "      <th>1</th>\n",
              "      <td>6.8</td>\n",
              "      <td>7223131</td>\n",
              "    </tr>\n",
              "    <tr>\n",
              "      <th>2</th>\n",
              "      <td>1.9</td>\n",
              "      <td>2555379</td>\n",
              "    </tr>\n",
              "    <tr>\n",
              "      <th>3</th>\n",
              "      <td>2.5</td>\n",
              "      <td>2175511</td>\n",
              "    </tr>\n",
              "    <tr>\n",
              "      <th>4</th>\n",
              "      <td>4.2</td>\n",
              "      <td>4816715</td>\n",
              "    </tr>\n",
              "  </tbody>\n",
              "</table>\n",
              "</div>"
            ],
            "text/plain": [
              "   Order_Placed  Revenue\n",
              "0           5.5  5953753\n",
              "1           6.8  7223131\n",
              "2           1.9  2555379\n",
              "3           2.5  2175511\n",
              "4           4.2  4816715"
            ]
          },
          "execution_count": 7,
          "metadata": {},
          "output_type": "execute_result"
        }
      ],
      "source": [
        "df.head()"
      ]
    },
    {
      "cell_type": "code",
      "execution_count": 8,
      "metadata": {
        "colab": {
          "base_uri": "https://localhost:8080/"
        },
        "id": "ZaLfHNMzHHdN",
        "outputId": "22465f95-31ac-443b-8caf-32cbfe9fe53c"
      },
      "outputs": [
        {
          "data": {
            "text/plain": [
              "(100, 2)"
            ]
          },
          "execution_count": 8,
          "metadata": {},
          "output_type": "execute_result"
        }
      ],
      "source": [
        "df.shape"
      ]
    },
    {
      "cell_type": "markdown",
      "metadata": {
        "id": "IiEj90pJWVhJ"
      },
      "source": [
        "**Create independent feature and dependent variable**"
      ]
    },
    {
      "cell_type": "code",
      "execution_count": 9,
      "metadata": {
        "id": "j8GHNVHTHJZE"
      },
      "outputs": [],
      "source": [
        "x=df.iloc[:,:-1].values\n",
        "y=df.iloc[:,-1].values  "
      ]
    },
    {
      "cell_type": "markdown",
      "metadata": {
        "id": "kRa0LKopaJXJ"
      },
      "source": [
        "**Split the dataset into Training set and Test set**"
      ]
    },
    {
      "cell_type": "code",
      "execution_count": 10,
      "metadata": {
        "id": "ze2FGppHHUCl"
      },
      "outputs": [],
      "source": [
        "from sklearn.model_selection import train_test_split\n",
        "x_train,x_test,y_train,y_test=train_test_split(x,y,test_size=0.2,random_state=42)"
      ]
    },
    {
      "cell_type": "code",
      "execution_count": 11,
      "metadata": {
        "colab": {
          "base_uri": "https://localhost:8080/"
        },
        "id": "3sWj-yFDWWQP",
        "outputId": "42815376-b43c-4328-ffa6-4aecd4b7f70d"
      },
      "outputs": [
        {
          "name": "stdout",
          "output_type": "stream",
          "text": [
            "[[ 6.8]\n",
            " [ 1.9]\n",
            " [ 2.1]\n",
            " [ 4.8]\n",
            " [ 3.3]\n",
            " [ 3.1]\n",
            " [ 6.7]\n",
            " [ 6.3]\n",
            " [ 5.3]\n",
            " [ 2.4]\n",
            " [ 5. ]\n",
            " [ 7.7]\n",
            " [ 7.2]\n",
            " [ 4.6]\n",
            " [ 3.3]\n",
            " [ 4.9]\n",
            " [ 1.7]\n",
            " [ 1.6]\n",
            " [ 3.6]\n",
            " [10.8]\n",
            " [ 8.5]\n",
            " [ 4. ]\n",
            " [ 4.3]\n",
            " [ 1.1]\n",
            " [ 5.3]\n",
            " [ 1.9]\n",
            " [ 3.9]\n",
            " [ 3.6]\n",
            " [ 5.1]\n",
            " [ 4.7]\n",
            " [ 8.8]\n",
            " [ 2.5]\n",
            " [ 8.1]\n",
            " [ 5.3]\n",
            " [ 4.8]\n",
            " [ 3.5]\n",
            " [ 5. ]\n",
            " [ 2.4]\n",
            " [ 2.8]\n",
            " [ 2.1]\n",
            " [ 2.1]\n",
            " [ 4.4]\n",
            " [ 4.5]\n",
            " [ 2.6]\n",
            " [ 1.9]\n",
            " [ 3.8]\n",
            " [ 4.1]\n",
            " [ 3.6]\n",
            " [ 4.2]\n",
            " [ 6.2]\n",
            " [ 6.1]\n",
            " [ 4.4]\n",
            " [ 2.9]\n",
            " [ 7.1]\n",
            " [ 2.1]\n",
            " [ 3.1]\n",
            " [13. ]\n",
            " [ 3.1]\n",
            " [ 3.5]\n",
            " [ 3.4]\n",
            " [ 1.5]\n",
            " [ 3.9]\n",
            " [ 2.6]\n",
            " [ 3.3]\n",
            " [ 6.8]\n",
            " [ 1.6]\n",
            " [ 1. ]\n",
            " [ 1.9]\n",
            " [ 2.8]\n",
            " [ 5.8]\n",
            " [ 1.9]\n",
            " [ 5.1]\n",
            " [ 3.1]\n",
            " [ 3.6]\n",
            " [ 5.4]\n",
            " [ 3. ]\n",
            " [ 4. ]\n",
            " [ 1.8]\n",
            " [ 6.5]\n",
            " [ 3.1]]\n"
          ]
        }
      ],
      "source": [
        "print(x_train)"
      ]
    },
    {
      "cell_type": "code",
      "execution_count": 12,
      "metadata": {
        "colab": {
          "base_uri": "https://localhost:8080/"
        },
        "id": "1KxOKdRgX-g1",
        "outputId": "105fbceb-1a39-4fb2-e7c1-bf6c8ee1cd83"
      },
      "outputs": [
        {
          "name": "stdout",
          "output_type": "stream",
          "text": [
            "[[5.7]\n",
            " [5.4]\n",
            " [3.8]\n",
            " [3.6]\n",
            " [4. ]\n",
            " [3.7]\n",
            " [3.8]\n",
            " [3.5]\n",
            " [3.6]\n",
            " [5.5]\n",
            " [5.2]\n",
            " [2.9]\n",
            " [3.1]\n",
            " [2.2]\n",
            " [3.3]\n",
            " [4.2]\n",
            " [4.3]\n",
            " [1.7]\n",
            " [1.6]\n",
            " [1.9]]\n"
          ]
        }
      ],
      "source": [
        "print(x_test)"
      ]
    },
    {
      "cell_type": "code",
      "execution_count": 13,
      "metadata": {
        "colab": {
          "base_uri": "https://localhost:8080/"
        },
        "id": "9lZC_keYX-jZ",
        "outputId": "381971a6-ce21-4a36-90cc-8cdfa19a42e6"
      },
      "outputs": [
        {
          "name": "stdout",
          "output_type": "stream",
          "text": [
            "[ 6941173  2025297  2967425  4952255  3452382  3918918  6836483  6412623\n",
            "  4544227  2525375  3861370  7865428  7495092  7705945  3410878  4517319\n",
            "  1882131  1756069  3903884 19696939  8630682  4100886  6491607  1270499\n",
            "  6135276  1521934  4066618  2778621  5286212  5107746  7904084  2175511\n",
            "  7513524  5461700  5152497  3871344  5966635  2551252  3028267  2364478\n",
            "  2390534  4567678  4651866  2732645  2156098  4052733  4250758  3836721\n",
            "  4350573  6694797  6313221  4554237  3004429  7201784  2344689  3258837\n",
            " 16549064  3261924  3753720  3600467  1619683  4250553  2740687  2447890\n",
            "  7223131  1763231   849870  2555379  1999068  5906596  2083447  5500818\n",
            "  3351383  3807496  5025735  3164972  4136425  1099097  6782425  3273041]\n"
          ]
        }
      ],
      "source": [
        "print(y_train)"
      ]
    },
    {
      "cell_type": "code",
      "execution_count": 14,
      "metadata": {
        "colab": {
          "base_uri": "https://localhost:8080/"
        },
        "id": "FwnUjP38X-l4",
        "outputId": "3ea832ba-f786-4e7b-f13c-d08010205d3e"
      },
      "outputs": [
        {
          "name": "stdout",
          "output_type": "stream",
          "text": [
            "[5966193 5595267 3982767 3752885 4264176 3818055 4956086 3727364 3945135\n",
            " 5953753 4937526 2408199 3347767 2371202 3426169 4816715 4590423 1904842\n",
            " 2234634 2358644]\n"
          ]
        }
      ],
      "source": [
        "print(y_test)"
      ]
    },
    {
      "cell_type": "markdown",
      "metadata": {
        "id": "X7Y6_KWEaviN"
      },
      "source": [
        "**Training the Simple Linear Regression model on the Training set**"
      ]
    },
    {
      "cell_type": "code",
      "execution_count": 15,
      "metadata": {
        "colab": {
          "base_uri": "https://localhost:8080/"
        },
        "id": "Z2Bj1OBBX-n4",
        "outputId": "39eb879b-2038-4b31-9540-f39b18903783"
      },
      "outputs": [
        {
          "data": {
            "text/plain": [
              "LinearRegression()"
            ]
          },
          "execution_count": 15,
          "metadata": {},
          "output_type": "execute_result"
        }
      ],
      "source": [
        "from sklearn.linear_model import LinearRegression\n",
        "regressor=LinearRegression()\n",
        "regressor.fit(x_train,y_train)"
      ]
    },
    {
      "cell_type": "markdown",
      "metadata": {
        "id": "wcoI2ntOa8Is"
      },
      "source": [
        "**Predicting the Test set results**"
      ]
    },
    {
      "cell_type": "code",
      "execution_count": 16,
      "metadata": {
        "id": "wrZ1ekQBX-qS"
      },
      "outputs": [],
      "source": [
        "y_pred=regressor.predict(x_test)"
      ]
    },
    {
      "cell_type": "code",
      "execution_count": 17,
      "metadata": {
        "colab": {
          "base_uri": "https://localhost:8080/"
        },
        "id": "iIqZnqHkbZdA",
        "outputId": "e564976d-8b4e-415e-e7fb-1e8174f2bf5d"
      },
      "outputs": [
        {
          "data": {
            "text/plain": [
              "array([6351103.23642516, 5984998.65773576, 4032440.90472562,\n",
              "       3788371.18559936, 4276510.62385189, 3910406.04516249,\n",
              "       4032440.90472562, 3666336.32603622, 3788371.18559936,\n",
              "       6107033.5172989 , 5740928.9386095 , 2934127.16865742,\n",
              "       3178196.88778369, 2079883.15171548, 3422266.60690995,\n",
              "       4520580.34297816, 4642615.20254129, 1469708.85389981,\n",
              "       1347673.99433668, 1713778.57302608])"
            ]
          },
          "execution_count": 17,
          "metadata": {},
          "output_type": "execute_result"
        }
      ],
      "source": [
        "y_pred"
      ]
    },
    {
      "cell_type": "markdown",
      "metadata": {
        "id": "wQ2-zeifbErJ"
      },
      "source": [
        "**Visualising the Training set results**"
      ]
    },
    {
      "cell_type": "code",
      "execution_count": 18,
      "metadata": {
        "colab": {
          "base_uri": "https://localhost:8080/",
          "height": 312
        },
        "id": "lxPy7fYtX-s9",
        "outputId": "cd036bd3-cbb7-45ae-cec0-1a03a24735b3"
      },
      "outputs": [
        {
          "data": {
            "text/plain": [
              "Text(0, 0.5, 'Revenue')"
            ]
          },
          "execution_count": 18,
          "metadata": {},
          "output_type": "execute_result"
        },
        {
          "data": {
            "image/png": "[encoded data removed]",
            "text/plain": [
              "<Figure size 640x480 with 1 Axes>"
            ]
          },
          "metadata": {},
          "output_type": "display_data"
        }
      ],
      "source": [
        "plt.scatter(x_train,y_train,color=\"blue\")\n",
        "plt.plot(x_train,regressor.predict(x_train),color=\"green\")\n",
        "plt.title(\"Revenue vs orders\")\n",
        "plt.xlabel(\"orders\")\n",
        "plt.ylabel(\"Revenue\")\n",
        "\n"
      ]
    },
    {
      "cell_type": "markdown",
      "metadata": {
        "id": "NRqJCPbobNvv"
      },
      "source": [
        "**Visualising the Test set results**"
      ]
    },
    {
      "cell_type": "code",
      "execution_count": 19,
      "metadata": {
        "colab": {
          "base_uri": "https://localhost:8080/",
          "height": 312
        },
        "id": "0b6eaTEBe9Y-",
        "outputId": "a0c3dcbb-fa88-4a6c-cd08-0ff134c7af0f"
      },
      "outputs": [
        {
          "data": {
            "text/plain": [
              "Text(0, 0.5, 'Revenue')"
            ]
          },
          "execution_count": 19,
          "metadata": {},
          "output_type": "execute_result"
        },
        {
          "data": {
            "image/png": "[encoded data removed]",
            "text/plain": [
              "<Figure size 640x480 with 1 Axes>"
            ]
          },
          "metadata": {},
          "output_type": "display_data"
        }
      ],
      "source": [
        "plt.scatter(x_test,y_test,color=\"blue\")\n",
        "plt.plot(x_train,regressor.predict(x_train),color=\"green\")\n",
        "plt.title(\"Revenue vs orders\")\n",
        "plt.xlabel(\"orders\")\n",
        "plt.ylabel(\"Revenue\")"
      ]
    },
    {
      "cell_type": "markdown",
      "metadata": {
        "id": "TL8w9V2YbpuI"
      },
      "source": [
        "**Accuracy of the Model**"
      ]
    },
    {
      "cell_type": "code",
      "execution_count": 20,
      "metadata": {
        "id": "qpAaU8rlX-vM"
      },
      "outputs": [],
      "source": [
        "from sklearn.metrics import r2_score"
      ]
    },
    {
      "cell_type": "code",
      "execution_count": 21,
      "metadata": {
        "id": "hHpCHRbPX-y3"
      },
      "outputs": [],
      "source": [
        "score=r2_score(y_pred,y_test)"
      ]
    },
    {
      "cell_type": "code",
      "execution_count": 22,
      "metadata": {
        "colab": {
          "base_uri": "https://localhost:8080/"
        },
        "id": "D1gOLfZAuH5e",
        "outputId": "0c676630-1f0f-4bbe-daa7-6d5d78f743a2"
      },
      "outputs": [
        {
          "data": {
            "text/plain": [
              "0.9109612329066814"
            ]
          },
          "execution_count": 22,
          "metadata": {},
          "output_type": "execute_result"
        }
      ],
      "source": [
        "score"
      ]
    }
  ],
  "metadata": {
    "colab": {
      "name": "Revenue prediction model.ipynb",
      "provenance": []
    },
    "kernelspec": {
      "display_name": "base",
      "language": "python",
      "name": "python3"
    },
    "language_info": {
      "codemirror_mode": {
        "name": "ipython",
        "version": 3
      },
      "file_extension": ".py",
      "mimetype": "text/x-python",
      "name": "python",
      "nbconvert_exporter": "python",
      "pygments_lexer": "ipython3",
      "version": "3.9.13"
    }
  },
  "nbformat": 4,
  "nbformat_minor": 0
}
